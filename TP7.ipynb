{
  "nbformat": 4,
  "nbformat_minor": 0,
  "metadata": {
    "colab": {
      "provenance": [],
      "authorship_tag": "ABX9TyPMMleOrx66Hp/lRN5WgCnY",
      "include_colab_link": true
    },
    "kernelspec": {
      "name": "python3",
      "display_name": "Python 3"
    },
    "language_info": {
      "name": "python"
    }
  },
  "cells": [
    {
      "cell_type": "markdown",
      "metadata": {
        "id": "view-in-github",
        "colab_type": "text"
      },
      "source": [
        "<a href=\"https://colab.research.google.com/github/Lourdes-Tolotto/ML/blob/main/TP7.ipynb\" target=\"_parent\"><img src=\"https://colab.research.google.com/assets/colab-badge.svg\" alt=\"Open In Colab\"/></a>"
      ]
    },
    {
      "cell_type": "code",
      "execution_count": null,
      "metadata": {
        "id": "0dhZzG1k05o-"
      },
      "outputs": [],
      "source": [
        "import matplotlib.pyplot as plt \n",
        "import seaborn as sns\n",
        "import statsmodels.api as sm\n",
        "import numpy as np\n",
        "import pandas as pd\n"
      ]
    },
    {
      "cell_type": "code",
      "source": [
        "from scipy.stats import normaltest\n",
        "\n",
        "# Se analiza un conjunto de datos para determinar si tienen distribucion normal\n",
        "\n",
        "def print_hist(data, data_name, ax):\n",
        "    \n",
        "    # Con este criterio se asume que los datos tienen una distribucion normal\n",
        "    # si p_value>0.5\n",
        "    stat, p_value = normaltest(data)\n",
        "    \n",
        "    if p_value > 0.05: \n",
        "      normal = True\n",
        "      sns.histplot(data, kde=True, ax=ax, color='green')\n",
        "      ax.set_title(data_name + ' (Posee D. Normal)')\n",
        "    else: \n",
        "      normal = False\n",
        "      sns.histplot(data, kde=True, ax=ax, color='red')\n",
        "      ax.set_title(data_name + ' (NO Posee D. Normal)')\n",
        "    \n",
        "    return normal\n",
        "    "
      ],
      "metadata": {
        "id": "EKmOLM1j_k0n"
      },
      "execution_count": null,
      "outputs": []
    },
    {
      "cell_type": "code",
      "source": [
        "# Imprime cada feature del dataset informando si tiene distribucion normal o no\n",
        "\n",
        "def DF_analysis(df, fig_fils, fig_cols):\n",
        "    \n",
        "    features = df.columns\n",
        "    fig, axes = plt.subplots(fig_fils, fig_cols, figsize=(25,30))\n",
        "    plt.subplots_adjust(hspace=0.5, wspace=0.3)\n",
        "    axes = axes.ravel()\n",
        "\n",
        "    count = 0\n",
        "\n",
        "    \"\"\"for feature, ax in zip(features, axes):\n",
        "        if feature != avoid_name :\n",
        "          if print_hist(df[feature], feature, ax)==True : count = count + 1\n",
        "    \"\"\"\n",
        "    for feature, ax in zip(features, axes):\n",
        "        if print_hist(df[feature], feature, ax)==True : count = count + 1\n",
        "\n",
        "    print(\"Features con distribución normal: \",count)\n",
        "\n",
        "    fig.suptitle('Analisis de cada feature')\n",
        "    plt.show()"
      ],
      "metadata": {
        "id": "K4y_bhJn_sdt"
      },
      "execution_count": null,
      "outputs": []
    },
    {
      "cell_type": "code",
      "source": [
        "from sklearn.model_selection import train_test_split\n",
        "from sklearn.metrics import mean_squared_error, r2_score\n",
        "from sklearn.model_selection import cross_val_score\n",
        "import multiprocessing\n",
        "\n",
        "def Regression(model, selected_features, target, n, k, selector, model_name):\n",
        "\n",
        "  rmse_train = []\n",
        "  r2_train = []\n",
        "  score_train = []\n",
        "  rmse_test = []\n",
        "  r2_test = []\n",
        "  score_test = []\n",
        "\n",
        "  for i in range(0,n):\n",
        "\n",
        "    X_train, X_test, Y_train, Y_test = train_test_split(selected_features[i], \n",
        "                                      target, test_size = 0.3, \n",
        "                                      random_state=0)\n",
        "\n",
        "    model.fit(X_train, Y_train)\n",
        "\n",
        "    y_train_predict = model.predict(X_train)\n",
        "    rmse = (np.sqrt(mean_squared_error(Y_train, y_train_predict)))\n",
        "    rmse_train.append(rmse)\n",
        "    r2 = r2_score(Y_train, y_train_predict)\n",
        "    r2_train.append(r2)\n",
        "    score = cross_val_score(estimator = model, X = X_train, \n",
        "                  y = Y_train, scoring = 'neg_root_mean_squared_error', \n",
        "                  cv = 5).mean()\n",
        "    score_train.append(-1*score)\n",
        "    \n",
        "    model.fit(X_test, Y_test)\n",
        "\n",
        "    y_train_predict = model.predict(X_test)\n",
        "    rmse = (np.sqrt(mean_squared_error(Y_test, y_train_predict)))\n",
        "    rmse_test.append(rmse)\n",
        "    r2 = r2_score(Y_test, y_train_predict)\n",
        "    r2_test.append(r2)\n",
        "    score = cross_val_score(estimator = model, X = X_test, \n",
        "                  y = Y_test, scoring = 'neg_root_mean_squared_error', \n",
        "                  cv = 5).mean()\n",
        "    score_test.append(-1*score)\n",
        "\n",
        "  tit = 'Reduccion de dimensionalidad usando selector ' \n",
        "  tit = tit + selector + ' y regresion ' + model_name\n",
        "  \n",
        "  fig, axes = plt.subplots(1, 2, figsize=(20,10))\n",
        "  plt.subplots_adjust(hspace=0.5, wspace=0.3)\n",
        "  plt.suptitle(tit)\n",
        "    \n",
        "  axes[0].plot(k, rmse_train, label=\"rmse\")\n",
        "  axes[0].plot(k, r2_train, label=\"r2\")\n",
        "  axes[0].plot(k, score_train, label=\"cv scores\")\n",
        "  axes[0].set_xlabel(\"Cantidad de features seleccionados\")\n",
        "  axes[0].set_title(\"Evolución de los parametros de evaluacion para train\")\n",
        "  axes[0].legend();\n",
        "  \n",
        "  axes[1].plot(k, rmse_test, label=\"rmse\")\n",
        "  axes[1].plot(k, r2_test, label=\"r2\")\n",
        "  axes[1].plot(k, score_test, label=\"cv scores\")\n",
        "  axes[1].set_xlabel(\"cantidad de features seleccionados\")\n",
        "  axes[1].set_title(\"Evolución de los parametros de evaluacion para test\")\n",
        "  axes[1].legend();\n",
        "  \n"
      ],
      "metadata": {
        "id": "UtQZggNDhT-c"
      },
      "execution_count": 150,
      "outputs": []
    },
    {
      "cell_type": "code",
      "source": [
        "data = pd.read_csv(\"https://raw.githubusercontent.com/emmanueliarussi/DataScienceCapstone/master/3_MidtermProjects/ProjectBHP/data/housing_data.csv\")\n",
        "data.info()\n",
        "print()\n",
        "\n",
        "df = data.dropna()\n",
        "target = df['MEDV']\n",
        "features = df.drop(columns='MEDV')\n"
      ],
      "metadata": {
        "colab": {
          "base_uri": "https://localhost:8080/"
        },
        "id": "URRHHxH1QeUm",
        "outputId": "22019a8c-92f7-4444-f6c6-3006ce86a879"
      },
      "execution_count": null,
      "outputs": [
        {
          "output_type": "stream",
          "name": "stdout",
          "text": [
            "<class 'pandas.core.frame.DataFrame'>\n",
            "RangeIndex: 506 entries, 0 to 505\n",
            "Data columns (total 14 columns):\n",
            " #   Column   Non-Null Count  Dtype  \n",
            "---  ------   --------------  -----  \n",
            " 0   CRIM     486 non-null    float64\n",
            " 1   ZN       486 non-null    float64\n",
            " 2   INDUS    486 non-null    float64\n",
            " 3   CHAS     486 non-null    float64\n",
            " 4   NOX      506 non-null    float64\n",
            " 5   RM       506 non-null    float64\n",
            " 6   AGE      486 non-null    float64\n",
            " 7   DIS      506 non-null    float64\n",
            " 8   RAD      506 non-null    int64  \n",
            " 9   TAX      506 non-null    int64  \n",
            " 10  PTRATIO  506 non-null    float64\n",
            " 11  B        506 non-null    float64\n",
            " 12  LSTAT    486 non-null    float64\n",
            " 13  MEDV     506 non-null    float64\n",
            "dtypes: float64(12), int64(2)\n",
            "memory usage: 55.5 KB\n",
            "\n"
          ]
        }
      ]
    },
    {
      "cell_type": "code",
      "source": [
        "DF_analysis(features,5,3)"
      ],
      "metadata": {
        "id": "h9KID2uc_wAh"
      },
      "execution_count": null,
      "outputs": []
    },
    {
      "cell_type": "code",
      "source": [
        "# Matriz de correlacion de los datos\n",
        "\n",
        "correlation_matrix = df.corr().round(2)\n",
        "sns.heatmap(data=correlation_matrix, annot=True)\n",
        "sns.set(rc={\"figure.figsize\":(15,10)})"
      ],
      "metadata": {
        "id": "nXHXGdcL_0Kn"
      },
      "execution_count": null,
      "outputs": []
    },
    {
      "cell_type": "code",
      "source": [
        "from sklearn.feature_selection import f_regression\n",
        "from sklearn.feature_selection import SelectKBest\n",
        "\n",
        "# Se crea una matriz que contiene versiones del dataset con distinta\n",
        "# cantidad de features\n",
        "\n",
        "n = 1\n",
        "k = []\n",
        "selected_features = []\n",
        "\n",
        "for i in range(2,13):\n",
        "\n",
        "  f = pd.DataFrame(SelectKBest(f_regression, k=i).fit_transform(features, target))\n",
        "  selected_features.append(f)\n",
        "  k.append(i)\n",
        "  n = n + 1\n",
        "\n",
        "selected_features.append(features)\n",
        "k.append(i+1)\n"
      ],
      "metadata": {
        "colab": {
          "base_uri": "https://localhost:8080/"
        },
        "id": "4n0hYb_nA5CI",
        "outputId": "4468f515-c7a8-4617-d2a8-ac3570a198b1"
      },
      "execution_count": null,
      "outputs": [
        {
          "output_type": "stream",
          "name": "stdout",
          "text": [
            "[2, 3, 4, 5, 6, 7, 8, 9, 10, 11, 12, 13]\n"
          ]
        }
      ]
    },
    {
      "cell_type": "code",
      "source": [
        "from sklearn.linear_model import LinearRegression\n",
        "\n",
        "Regression(LinearRegression(), selected_features, target, \n",
        "           n, k, 'SelectKbest', 'Lineal')"
      ],
      "metadata": {
        "id": "GbBAhfFicuEN"
      },
      "execution_count": null,
      "outputs": []
    },
    {
      "cell_type": "code",
      "source": [
        "from sklearn.ensemble import GradientBoostingRegressor\n",
        "\n",
        "Regression(GradientBoostingRegressor(n_estimators = 200,\n",
        "                random_state = 0, learning_rate= 0.1), \n",
        "           selected_features, target, n, k, 'SelectKbest', \n",
        "           'Gradient Boost')"
      ],
      "metadata": {
        "id": "B4SXKdhshHRF"
      },
      "execution_count": null,
      "outputs": []
    },
    {
      "cell_type": "code",
      "source": [
        "from sklearn.feature_selection import RFE\n",
        "\n",
        "model = LinearRegression()\n",
        "\n",
        "n = 1\n",
        "k = []\n",
        "selected_features2 = []\n",
        "\n",
        "for i in range(2,13):\n",
        "\n",
        "  f = pd.DataFrame(RFE(model, n_features_to_select = 3).fit_transform(features, target))\n",
        "  selected_features2.append(f)\n",
        "  k.append(i)\n",
        "  n = n + 1\n",
        "\n",
        "selected_features2.append(features)\n",
        "k.append(i+1)\n",
        "\n",
        "Regression(model, selected_features2, target, \n",
        "           n, k, 'RFE', 'Lineal')"
      ],
      "metadata": {
        "id": "twOB9GWylA0E"
      },
      "execution_count": null,
      "outputs": []
    },
    {
      "cell_type": "code",
      "source": [
        "from sklearn.decomposition import PCA\n",
        "\n",
        "n = 1\n",
        "k = []\n",
        "selected_features3 = []\n",
        "\n",
        "for i in range(2,13):\n",
        "\n",
        "  f = pd.DataFrame(PCA( n_components = i, random_state = 0).fit_transform(features, target))\n",
        "  selected_features3.append(f)\n",
        "  k.append(i)\n",
        "  n = n + 1\n",
        "\n",
        "selected_features3.append(features)\n",
        "k.append(i+1)\n",
        "\n",
        "Regression(model, selected_features3, target, \n",
        "           n, k, 'PCA', 'Lineal')"
      ],
      "metadata": {
        "id": "4YaG_yoyqFAm"
      },
      "execution_count": null,
      "outputs": []
    },
    {
      "cell_type": "code",
      "source": [
        "from sklearn.feature_selection import SequentialFeatureSelector\n",
        "\n",
        "n = 1\n",
        "k = []\n",
        "selected_features4 = []\n",
        "\n",
        "for i in range(2,13):\n",
        "\n",
        "  f = pd.DataFrame(SequentialFeatureSelector(model,\n",
        "           n_features_to_select = i).fit_transform(features,target))\n",
        "  selected_features4.append(f)\n",
        "  k.append(i)\n",
        "  n = n + 1\n",
        "\n",
        "selected_features4.append(features)\n",
        "k.append(i+1)\n",
        "\n",
        "Regression(model, selected_features4, target, \n",
        "           n, k, 'Sequencial Feature', 'Lineal')\n",
        "\n",
        "\n"
      ],
      "metadata": {
        "id": "f6NQ2hwOsobC"
      },
      "execution_count": null,
      "outputs": []
    },
    {
      "cell_type": "code",
      "source": [
        "\"\"\"\n",
        "df = pd.read_csv(\"https://raw.githubusercontent.com/emmanueliarussi/DataScienceCapstone/master/3_MidtermProjects/ProjectBCD/data/data.csv\")\n",
        "\n",
        "df.info()\n",
        "print()\n",
        "print(df.shape)\n",
        "print()\n",
        "\n",
        "df.dropna()\n",
        "features_names = df.keys()\n",
        "#print(features_names)\n",
        "target = df['diagnosis']\n",
        "features = df.drop(columns = ['diagnosis', 'id', 'Unnamed: 32'])\n",
        "\"\"\""
      ],
      "metadata": {
        "id": "Rtf3OqJuushK"
      },
      "execution_count": null,
      "outputs": []
    }
  ]
}